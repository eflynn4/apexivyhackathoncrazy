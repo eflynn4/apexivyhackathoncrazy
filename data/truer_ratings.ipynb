{
 "cells": [
  {
   "cell_type": "markdown",
   "metadata": {},
   "source": [
    "# Truer Ratings: Normalizing Google Reviews Data\n",
    "## By Ivy Nangalia and Evan Flynn"
   ]
  },
  {
   "cell_type": "markdown",
   "metadata": {},
   "source": [
    "### Importing The Data"
   ]
  },
  {
   "cell_type": "code",
   "execution_count": 544,
   "metadata": {},
   "outputs": [],
   "source": [
    "# importing libraries\n",
    "import numpy as np\n",
    "import pandas as pd"
   ]
  },
  {
   "cell_type": "code",
   "execution_count": 545,
   "metadata": {},
   "outputs": [],
   "source": [
    "# initializing column names\n",
    "colnames = ['User', 'church_avg', 'resort_avg', 'beach_avg', 'park_avg', 'theater_avg',\n",
    "       'museum_avg', 'mall_avg', 'zoo_avg', 'restaurants_avg', 'bars_avg',\n",
    "       'local_services_avg', 'burger_pizza_avg', 'hotel_avg', 'juice_avg',\n",
    "       'art_avg', 'dance_avg', 'pool_avg', 'gym_avg', 'bakery_avg',\n",
    "       'beauty_avg', 'spa_avg', 'cafe_avg', 'viewpoint_avg', 'monument_avg',\n",
    "       'garden_avg']"
   ]
  },
  {
   "cell_type": "code",
   "execution_count": 546,
   "metadata": {},
   "outputs": [],
   "source": [
    "#used copilot for pandas read_csv function\n",
    "data = pd.read_csv('google_review_ratings.csv')\n",
    "data.columns = colnames\n",
    "# used copilot to drop user column\n",
    "data = data.drop(\"User\", axis=1) \n",
    "data = data.fillna(0.0)"
   ]
  },
  {
   "cell_type": "markdown",
   "metadata": {},
   "source": [
    "We ran into an issue where `data[\"local_services_avg\"]` was imported as an array of strings instead of floats. We had a hard time changing the datatype of the entire column because at `data[\"local_services_avg\"][2712]` the value was `\"2\\t2\"`. We ended up removing this anomaly and typecasting the rest of the data using a for loop."
   ]
  },
  {
   "cell_type": "code",
   "execution_count": 547,
   "metadata": {},
   "outputs": [
    {
     "name": "stdout",
     "output_type": "stream",
     "text": [
      "2712\n"
     ]
    }
   ],
   "source": [
    "x = pd.array(np.zeros(len(data[\"local_services_avg\"])))\n",
    "\n",
    "for i in range(0, len(data[\"local_services_avg\"])-1):\n",
    "    try:\n",
    "        x[i] = float(data[\"local_services_avg\"][i])\n",
    "    except:\n",
    "        print(i)\n",
    "        x[i] = float(0.0)\n",
    "\n",
    "data[\"local_services_avg\"] = x"
   ]
  },
  {
   "cell_type": "markdown",
   "metadata": {},
   "source": [
    "### Initial Data Exploration"
   ]
  },
  {
   "cell_type": "markdown",
   "metadata": {},
   "source": [
    "Our focus was to explore voluntary response bias in reviews. Statistically, we'd expect to see a mean rating of 2.5 stars per user (assuming a 1-5 scale). However, it appears that the mean rating was closer to 2, which indicates a right skew. \n",
    "\n",
    "Note: When testing out giving low ratings, we noted that Google Maps does not allow users to give reviews below 1 star. We still chose to use a 2.5 value since there were some average values below 1, indicating that this dataset perhaps accounts for that, or users were able to give zero stars."
   ]
  },
  {
   "cell_type": "code",
   "execution_count": 548,
   "metadata": {},
   "outputs": [
    {
     "name": "stdout",
     "output_type": "stream",
     "text": [
      "[0.81, 0.81, 0.82, 0.82, 0.82, 0.82, 0.82, 0.82, 0.82, 0.83]\n"
     ]
    }
   ],
   "source": [
    "x = data[\"bars_avg\"].to_list()\n",
    "print(sorted(x)[0:10]) # there are values lower than 1"
   ]
  },
  {
   "cell_type": "code",
   "execution_count": 549,
   "metadata": {},
   "outputs": [
    {
     "name": "stdout",
     "output_type": "stream",
     "text": [
      "2.120645714017358\n"
     ]
    }
   ],
   "source": [
    "# calculating user_average\n",
    "data[\"user_average\"] = data.apply(\n",
    "    lambda row: row[row.apply(\n",
    "        lambda x: isinstance(x, (int, float))) # ensures average only counts floats\n",
    "        & (row != 0)].mean(), #ensures average does not count zeros\n",
    "        axis=1)\n",
    "# copilot was used for lambda aggfunc\n",
    "print(data[\"user_average\"].mean())"
   ]
  },
  {
   "cell_type": "code",
   "execution_count": 550,
   "metadata": {},
   "outputs": [
    {
     "data": {
      "image/png": "[encoded data removed]",
      "text/plain": [
       "<Figure size 640x480 with 1 Axes>"
      ]
     },
     "metadata": {},
     "output_type": "display_data"
    }
   ],
   "source": [
    "import matplotlib.pyplot as plt\n",
    "data[\"user_average\"].hist()\n",
    "plt.xlim(0, 5) # used copilot for matplotlib help\n",
    "plt.xlabel(\"user_average\")\n",
    "plt.ylabel(\"count\")\n",
    "plt.title(\"Histogram of User Averages\")\n",
    "plt.show()\n"
   ]
  },
  {
   "cell_type": "markdown",
   "metadata": {},
   "source": [
    "We aimed to correct for this by getting the difference between the sample mean (of the user) and the expected mean (2.5 stars)."
   ]
  },
  {
   "cell_type": "code",
   "execution_count": 551,
   "metadata": {},
   "outputs": [],
   "source": [
    "data[\"skew\"] = data[\"user_average\"] - 2.5"
   ]
  },
  {
   "cell_type": "markdown",
   "metadata": {},
   "source": [
    "### Fixing the Skew"
   ]
  },
  {
   "cell_type": "code",
   "execution_count": 552,
   "metadata": {},
   "outputs": [],
   "source": [
    "unskew = data # initializing a new dataframe to \"unskew\" the data\n",
    "x = unskew[\"skew\"]\n",
    "unskew = unskew.drop(\"skew\", axis=1)\n",
    "unskew[\"skew\"] = x # get rid of initial mean function"
   ]
  },
  {
   "cell_type": "markdown",
   "metadata": {},
   "source": [
    "We ran into an issue when just mutating `unskew` where every value became `NaN`. We used an intermediate variable `x` to ensure we isolated the values, which fixed the issue."
   ]
  },
  {
   "cell_type": "code",
   "execution_count": 553,
   "metadata": {},
   "outputs": [],
   "source": [
    "unskew = unskew.apply(lambda row: row[row.apply # subtracts skew from non-zero values\n",
    "                             (lambda y: isinstance(y, (int, float)))\n",
    "                             & (row != 0)]\n",
    "                             - x, # subtracting the difference\n",
    "                             axis=0)\n",
    "unskew = unskew.fillna(0)"
   ]
  },
  {
   "cell_type": "code",
   "execution_count": 554,
   "metadata": {},
   "outputs": [],
   "source": [
    "unskew = unskew.drop(labels=[\"user_average\"], axis=1)\n",
    "unskew[\"user_average\"] = unskew.apply(lambda row: row[row.apply(\n",
    "    lambda x: isinstance(x, (int, float))) \n",
    "    & (row != 0)].mean(), # creates new user average based on non-zero values\n",
    "    axis=1)"
   ]
  },
  {
   "cell_type": "code",
   "execution_count": 576,
   "metadata": {},
   "outputs": [],
   "source": [
    "for n in unskew[\"user_average\"]:\n",
    "    if round(n,ndigits=1) != 2.5: \n",
    "        # some values are near 2.5 but not 2.5 exactly\n",
    "        print(n)\n",
    "# no values were observed that were greater than 0.1 away from 2.5"
   ]
  },
  {
   "cell_type": "markdown",
   "metadata": {},
   "source": [
    "We normalized the means of all users around 2.5 using the following formula:\n",
    "$$\\text{Let } \\bar{x}_i = \\text{the original user's mean} $$\n",
    "$$d_i = \\bar{x}_i - 2.5$$\n",
    "$$\\sum{x_i + d_i} = x_j$$\n",
    "$$\\bar{x}_j = 2.5$$\n",
    "\n",
    "$x_j$ is represented as the `normalized` dataframe."
   ]
  },
  {
   "cell_type": "code",
   "execution_count": 555,
   "metadata": {},
   "outputs": [],
   "source": [
    "# copy and pasted existing copilot code, and used .to_dict() method\n",
    "raw = data.apply(lambda col: col[col.apply(lambda x: isinstance(x, (int, float))) & (col != 0)].mean(), axis= 0).to_dict()\n",
    "normalized = unskew.apply(lambda col: col[col.apply(lambda x: isinstance(x, (int, float))) & (col != 0)].mean(), axis= 0).to_dict()\n",
    "# fix normalized skew (which was NaN since there are no non-zero values for the function to average)\n",
    "normalized[\"skew\"] = 0.0"
   ]
  },
  {
   "cell_type": "code",
   "execution_count": 556,
   "metadata": {},
   "outputs": [
    {
     "data": {
      "text/html": [
       "<div>\n",
       "<style scoped>\n",
       "    .dataframe tbody tr th:only-of-type {\n",
       "        vertical-align: middle;\n",
       "    }\n",
       "\n",
       "    .dataframe tbody tr th {\n",
       "        vertical-align: top;\n",
       "    }\n",
       "\n",
       "    .dataframe thead th {\n",
       "        text-align: right;\n",
       "    }\n",
       "</style>\n",
       "<table border=\"1\" class=\"dataframe\">\n",
       "  <thead>\n",
       "    <tr style=\"text-align: right;\">\n",
       "      <th></th>\n",
       "      <th>raw</th>\n",
       "      <th>normalized</th>\n",
       "      <th>difference</th>\n",
       "    </tr>\n",
       "  </thead>\n",
       "  <tbody>\n",
       "    <tr>\n",
       "      <th>church_avg</th>\n",
       "      <td>1.509677</td>\n",
       "      <td>1.898089</td>\n",
       "      <td>0.388412</td>\n",
       "    </tr>\n",
       "    <tr>\n",
       "      <th>resort_avg</th>\n",
       "      <td>2.358613</td>\n",
       "      <td>2.743645</td>\n",
       "      <td>0.385031</td>\n",
       "    </tr>\n",
       "    <tr>\n",
       "      <th>beach_avg</th>\n",
       "      <td>2.491157</td>\n",
       "      <td>2.870749</td>\n",
       "      <td>0.379591</td>\n",
       "    </tr>\n",
       "    <tr>\n",
       "      <th>park_avg</th>\n",
       "      <td>2.796886</td>\n",
       "      <td>3.176240</td>\n",
       "      <td>0.379354</td>\n",
       "    </tr>\n",
       "    <tr>\n",
       "      <th>theater_avg</th>\n",
       "      <td>2.958941</td>\n",
       "      <td>3.338295</td>\n",
       "      <td>0.379354</td>\n",
       "    </tr>\n",
       "    <tr>\n",
       "      <th>museum_avg</th>\n",
       "      <td>2.893490</td>\n",
       "      <td>3.272844</td>\n",
       "      <td>0.379354</td>\n",
       "    </tr>\n",
       "    <tr>\n",
       "      <th>mall_avg</th>\n",
       "      <td>3.351395</td>\n",
       "      <td>3.730749</td>\n",
       "      <td>0.379354</td>\n",
       "    </tr>\n",
       "    <tr>\n",
       "      <th>zoo_avg</th>\n",
       "      <td>2.540795</td>\n",
       "      <td>2.920150</td>\n",
       "      <td>0.379354</td>\n",
       "    </tr>\n",
       "    <tr>\n",
       "      <th>restaurants_avg</th>\n",
       "      <td>3.126019</td>\n",
       "      <td>3.505373</td>\n",
       "      <td>0.379354</td>\n",
       "    </tr>\n",
       "    <tr>\n",
       "      <th>bars_avg</th>\n",
       "      <td>2.832729</td>\n",
       "      <td>3.212083</td>\n",
       "      <td>0.379354</td>\n",
       "    </tr>\n",
       "    <tr>\n",
       "      <th>local_services_avg</th>\n",
       "      <td>2.550365</td>\n",
       "      <td>2.929779</td>\n",
       "      <td>0.379414</td>\n",
       "    </tr>\n",
       "    <tr>\n",
       "      <th>burger_pizza_avg</th>\n",
       "      <td>2.078339</td>\n",
       "      <td>2.457757</td>\n",
       "      <td>0.379418</td>\n",
       "    </tr>\n",
       "    <tr>\n",
       "      <th>hotel_avg</th>\n",
       "      <td>2.125511</td>\n",
       "      <td>2.504866</td>\n",
       "      <td>0.379354</td>\n",
       "    </tr>\n",
       "    <tr>\n",
       "      <th>juice_avg</th>\n",
       "      <td>2.190861</td>\n",
       "      <td>2.570216</td>\n",
       "      <td>0.379354</td>\n",
       "    </tr>\n",
       "    <tr>\n",
       "      <th>art_avg</th>\n",
       "      <td>2.208191</td>\n",
       "      <td>2.588042</td>\n",
       "      <td>0.379850</td>\n",
       "    </tr>\n",
       "    <tr>\n",
       "      <th>dance_avg</th>\n",
       "      <td>1.217799</td>\n",
       "      <td>1.602830</td>\n",
       "      <td>0.385030</td>\n",
       "    </tr>\n",
       "    <tr>\n",
       "      <th>pool_avg</th>\n",
       "      <td>1.040557</td>\n",
       "      <td>1.438050</td>\n",
       "      <td>0.397494</td>\n",
       "    </tr>\n",
       "    <tr>\n",
       "      <th>gym_avg</th>\n",
       "      <td>1.010834</td>\n",
       "      <td>1.418024</td>\n",
       "      <td>0.407190</td>\n",
       "    </tr>\n",
       "    <tr>\n",
       "      <th>bakery_avg</th>\n",
       "      <td>1.199839</td>\n",
       "      <td>1.611897</td>\n",
       "      <td>0.412058</td>\n",
       "    </tr>\n",
       "    <tr>\n",
       "      <th>beauty_avg</th>\n",
       "      <td>1.196577</td>\n",
       "      <td>1.608041</td>\n",
       "      <td>0.411464</td>\n",
       "    </tr>\n",
       "    <tr>\n",
       "      <th>spa_avg</th>\n",
       "      <td>1.086070</td>\n",
       "      <td>1.489875</td>\n",
       "      <td>0.403805</td>\n",
       "    </tr>\n",
       "    <tr>\n",
       "      <th>cafe_avg</th>\n",
       "      <td>1.868701</td>\n",
       "      <td>2.262507</td>\n",
       "      <td>0.393806</td>\n",
       "    </tr>\n",
       "    <tr>\n",
       "      <th>viewpoint_avg</th>\n",
       "      <td>1.621189</td>\n",
       "      <td>2.012601</td>\n",
       "      <td>0.391412</td>\n",
       "    </tr>\n",
       "    <tr>\n",
       "      <th>monument_avg</th>\n",
       "      <td>1.627901</td>\n",
       "      <td>2.016688</td>\n",
       "      <td>0.388788</td>\n",
       "    </tr>\n",
       "    <tr>\n",
       "      <th>garden_avg</th>\n",
       "      <td>1.810000</td>\n",
       "      <td>1.650824</td>\n",
       "      <td>-0.159176</td>\n",
       "    </tr>\n",
       "  </tbody>\n",
       "</table>\n",
       "</div>"
      ],
      "text/plain": [
       "                         raw  normalized  difference\n",
       "church_avg          1.509677    1.898089    0.388412\n",
       "resort_avg          2.358613    2.743645    0.385031\n",
       "beach_avg           2.491157    2.870749    0.379591\n",
       "park_avg            2.796886    3.176240    0.379354\n",
       "theater_avg         2.958941    3.338295    0.379354\n",
       "museum_avg          2.893490    3.272844    0.379354\n",
       "mall_avg            3.351395    3.730749    0.379354\n",
       "zoo_avg             2.540795    2.920150    0.379354\n",
       "restaurants_avg     3.126019    3.505373    0.379354\n",
       "bars_avg            2.832729    3.212083    0.379354\n",
       "local_services_avg  2.550365    2.929779    0.379414\n",
       "burger_pizza_avg    2.078339    2.457757    0.379418\n",
       "hotel_avg           2.125511    2.504866    0.379354\n",
       "juice_avg           2.190861    2.570216    0.379354\n",
       "art_avg             2.208191    2.588042    0.379850\n",
       "dance_avg           1.217799    1.602830    0.385030\n",
       "pool_avg            1.040557    1.438050    0.397494\n",
       "gym_avg             1.010834    1.418024    0.407190\n",
       "bakery_avg          1.199839    1.611897    0.412058\n",
       "beauty_avg          1.196577    1.608041    0.411464\n",
       "spa_avg             1.086070    1.489875    0.403805\n",
       "cafe_avg            1.868701    2.262507    0.393806\n",
       "viewpoint_avg       1.621189    2.012601    0.391412\n",
       "monument_avg        1.627901    2.016688    0.388788\n",
       "garden_avg          1.810000    1.650824   -0.159176"
      ]
     },
     "execution_count": 556,
     "metadata": {},
     "output_type": "execute_result"
    }
   ],
   "source": [
    "means = pd.DataFrame([raw, normalized]).transpose()\n",
    "means.columns = [\"raw\", \"normalized\"]\n",
    "means = means.drop([\"skew\", \"user_average\"], axis=0)\n",
    "means[\"difference\"] = means[\"normalized\"] - means[\"raw\"]\n",
    "means\n"
   ]
  },
  {
   "cell_type": "markdown",
   "metadata": {},
   "source": [
    "The rest of our values all looked very similar, but the `garden_avg` difference appeared to be an outlier. The difference was caused by the low number of non-zero observations in `garden_avg` (2)."
   ]
  },
  {
   "cell_type": "code",
   "execution_count": 557,
   "metadata": {},
   "outputs": [
    {
     "name": "stdout",
     "output_type": "stream",
     "text": [
      "2\n"
     ]
    }
   ],
   "source": [
    "n = 0\n",
    "for value in data[\"garden_avg\"]:\n",
    "    if value > 0.0:\n",
    "        n +=1\n",
    "print(n)\n",
    "# removing \"garden_avg\" because of low n count\n",
    "means = means.drop(\"garden_avg\", axis=0)"
   ]
  },
  {
   "cell_type": "markdown",
   "metadata": {},
   "source": [
    "After removing this outlier, we found that the average difference between means ends up being a constant around 0.387. For the rest of this document, we will refer to this constant as $k$."
   ]
  },
  {
   "cell_type": "markdown",
   "metadata": {},
   "source": [
    "$$k = \\frac{\\sum{\\bar{x}_j-\\bar{x}_i}}{n}$$\n",
    "$$\\text{for } n = \\text{number of categories}$$"
   ]
  },
  {
   "cell_type": "code",
   "execution_count": 580,
   "metadata": {},
   "outputs": [
    {
     "name": "stdout",
     "output_type": "stream",
     "text": [
      "0.3873730897663091\n"
     ]
    }
   ],
   "source": [
    "k = float(means[\"difference\"].mean())\n",
    "print(k)"
   ]
  },
  {
   "cell_type": "code",
   "execution_count": 561,
   "metadata": {},
   "outputs": [
    {
     "data": {
      "text/plain": [
       "0.03270381610615902"
      ]
     },
     "execution_count": 561,
     "metadata": {},
     "output_type": "execute_result"
    }
   ],
   "source": [
    "means[\"difference\"].max() - means[\"difference\"].min() # the difference between values is not high"
   ]
  },
  {
   "cell_type": "markdown",
   "metadata": {},
   "source": [
    "Our normalization process normalized the category averages to better fit a bell curve, like one would expect to see among a large range of observations of a continuous variable."
   ]
  },
  {
   "cell_type": "code",
   "execution_count": 579,
   "metadata": {},
   "outputs": [
    {
     "data": {
      "image/png": "[encoded data removed]",
      "text/plain": [
       "<Figure size 640x480 with 1 Axes>"
      ]
     },
     "metadata": {},
     "output_type": "display_data"
    },
    {
     "data": {
      "image/png": "[encoded data removed]",
      "text/plain": [
       "<Figure size 640x480 with 1 Axes>"
      ]
     },
     "metadata": {},
     "output_type": "display_data"
    }
   ],
   "source": [
    "means[\"raw\"].hist()\n",
    "plt.title(\"Histogram of Category Means Before Normalization\")\n",
    "plt.xlim(0, 5)\n",
    "plt.xlabel(\"category_average\")\n",
    "plt.ylabel(\"count\")\n",
    "plt.show()\n",
    "\n",
    "means[\"normalized\"].hist(range=(0,5))\n",
    "plt.title(\"Histogram of Category Means After Normalization\")\n",
    "plt.xlim(0, 5)\n",
    "plt.xlabel(\"category_average\")\n",
    "plt.ylabel(\"count\")\n",
    "plt.show()"
   ]
  },
  {
   "cell_type": "markdown",
   "metadata": {},
   "source": [
    "### Building a model.\n",
    "\n",
    "We decided to use a linear model to adjust a given sample average ($x$) to a more likely average rating ($\\bar{\\mu}$), modeled by:\n",
    "$$\\bar{\\mu} = -\\frac{k}{2.5} * (x-5) + x$$\n",
    "We arrived at this formula for a few reasons:\n",
    "1. We decided to use a linear model, rather than an exponential one, because we found that people tend to underrate things; google reviews had a negative bias.\n",
    "2. Therefore, we did not want to subtract from higher ratings, but we did want to add to lower ratings.\n",
    "3. We wanted to ensure the line went through $(5, 5)$ to ensure we don't boost ratings past a 5/5 stars.\n",
    "4. We wanted the average value of the line (depicted in red) to be $2.5 + k$ to reflect the adjustment in ratings"
   ]
  },
  {
   "cell_type": "code",
   "execution_count": 634,
   "metadata": {},
   "outputs": [
    {
     "data": {
      "image/png": "[encoded data removed]",
      "text/plain": [
       "<Figure size 640x480 with 1 Axes>"
      ]
     },
     "metadata": {},
     "output_type": "display_data"
    }
   ],
   "source": [
    "import numpy as np\n",
    "def adjust(x: float) -> float: # creating a method to adjust x\n",
    "    adjusted = (-k / 2.5) * (x - 5) + x\n",
    "    return adjusted\n",
    "\n",
    "# matplotlib code was assisted by copilot\n",
    "\n",
    "x = np.linspace(0, 5, 100)  # Generate 100 points between 0 and 5\n",
    "y = adjust(x)\n",
    "\n",
    "plt.plot(x, y, label='Adjusted')\n",
    "plt.plot(x, x, color='orange', label='Original')\n",
    "\n",
    "plt.xlim(0,5)\n",
    "plt.ylim(0,5)\n",
    "plt.xlabel('Input')\n",
    "plt.vlines(2.5, ymin=0, ymax=5, colors=\"red\", # draw a line at the average\n",
    "           label=\"Average Value\", linestyles=\"dashed\") \n",
    "plt.ylabel('y')\n",
    "plt.title('Updating Google Review Averages Using the k Constant')\n",
    "plt.grid(True)\n",
    "\n",
    "plt.legend()\n",
    "plt.show()\n"
   ]
  }
 ],
 "metadata": {
  "kernelspec": {
   "display_name": "Python 3",
   "language": "python",
   "name": "python3"
  },
  "language_info": {
   "codemirror_mode": {
    "name": "ipython",
    "version": 3
   },
   "file_extension": ".py",
   "mimetype": "text/x-python",
   "name": "python",
   "nbconvert_exporter": "python",
   "pygments_lexer": "ipython3",
   "version": "3.12.1"
  }
 },
 "nbformat": 4,
 "nbformat_minor": 2
}
