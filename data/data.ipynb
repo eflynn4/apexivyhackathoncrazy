{
 "cells": [
  {
   "cell_type": "markdown",
   "metadata": {},
   "source": [
    "# Normalizing HTML Data\n",
    "## By Ivy Nangalia and Evan Flynn"
   ]
  },
  {
   "cell_type": "markdown",
   "metadata": {},
   "source": [
    "### Importing"
   ]
  },
  {
   "cell_type": "code",
   "execution_count": 463,
   "metadata": {},
   "outputs": [],
   "source": [
    "# importing libraries\n",
    "import numpy as np\n",
    "import pandas as pd"
   ]
  },
  {
   "cell_type": "code",
   "execution_count": 464,
   "metadata": {},
   "outputs": [],
   "source": [
    "# initializing column names\n",
    "colnames = ['User', 'church_avg', 'resort_avg', 'beach_avg', 'park_avg', 'theater_avg',\n",
    "       'museum_avg', 'mall_avg', 'zoo_avg', 'restaurants_avg', 'bars_avg',\n",
    "       'local_services_avg', 'burger_pizza_avg', 'hotel_avg', 'juice_avg',\n",
    "       'art_avg', 'dance_avg', 'pool_avg', 'gym_avg', 'bakery_avg',\n",
    "       'beauty_avg', 'spa_avg', 'cafe_avg', 'viewpoint_avg', 'monument_avg',\n",
    "       'garden_avg']"
   ]
  },
  {
   "cell_type": "code",
   "execution_count": 465,
   "metadata": {},
   "outputs": [],
   "source": [
    "#used copilot for pandas read_csv function\n",
    "data = pd.read_csv('google_review_ratings.csv')\n",
    "data.columns = colnames\n",
    "# used copilot to drop user column\n",
    "data = data.drop(\"User\", axis=1) \n",
    "data = data.fillna(0.0)"
   ]
  },
  {
   "cell_type": "markdown",
   "metadata": {},
   "source": [
    "We ran into an issue where `data[\"local_services_avg\"]` was imported as an array of strings instead of floats. We had a hard time changing the datatype of the entire column because at `data[\"local_services_avg\"][2712]` the value was `\"2\\t2\"`. We ended up removing this anomaly and typecasting the rest of the data using a for loop."
   ]
  },
  {
   "cell_type": "code",
   "execution_count": 466,
   "metadata": {},
   "outputs": [
    {
     "name": "stdout",
     "output_type": "stream",
     "text": [
      "2712\n"
     ]
    }
   ],
   "source": [
    "x = pd.array(np.zeros(len(data[\"local_services_avg\"])))\n",
    "\n",
    "for i in range(0, len(data[\"local_services_avg\"])-1):\n",
    "    try:\n",
    "        x[i] = float(data[\"local_services_avg\"][i])\n",
    "    except:\n",
    "        print(i)\n",
    "        x[i] = float(0.0)\n",
    "\n",
    "data[\"local_services_avg\"] = x"
   ]
  },
  {
   "cell_type": "markdown",
   "metadata": {},
   "source": [
    "### Initial Data Exploration"
   ]
  },
  {
   "cell_type": "markdown",
   "metadata": {},
   "source": [
    "Our focus was to explore voluntary response bias in reviews. Statistically, we'd expect to see a mean rating of 2.5 stars per user (assuming a 1-5 scale). However, it appears that the mean rating was closer to 2, which indicates a right skew. \n",
    "\n",
    "Note: When testing out giving low ratings, we noted that Google Maps does not allow users to give reviews below 1 star. We still chose to use a 2.5 value since there were some average values below 1, indicating that this dataset perhaps accounts for that, or users were able to give zero stars."
   ]
  },
  {
   "cell_type": "code",
   "execution_count": 504,
   "metadata": {},
   "outputs": [
    {
     "name": "stdout",
     "output_type": "stream",
     "text": [
      "[0.81, 0.81, 0.82, 0.82, 0.82, 0.82, 0.82, 0.82, 0.82, 0.83]\n"
     ]
    }
   ],
   "source": [
    "x = data[\"bars_avg\"].to_list()\n",
    "print(sorted(x)[0:10]) # there are values lower than 1"
   ]
  },
  {
   "cell_type": "code",
   "execution_count": 502,
   "metadata": {},
   "outputs": [
    {
     "name": "stdout",
     "output_type": "stream",
     "text": [
      "2.015920422439587\n"
     ]
    }
   ],
   "source": [
    "data[\"user_average\"] = data.apply(\n",
    "    lambda row: row[row.apply(\n",
    "        lambda x: isinstance(x, (int, float))) # ensures average only counts floats\n",
    "        & (row != 0)].mean(), #ensures average does not count zeros\n",
    "        axis=1)\n",
    "# copilot was used for lambda aggfunc\n",
    "print(data[\"user_average\"].mean())"
   ]
  },
  {
   "cell_type": "code",
   "execution_count": 482,
   "metadata": {},
   "outputs": [
    {
     "data": {
      "image/png": "[encoded data removed]",
      "text/plain": [
       "<Figure size 640x480 with 1 Axes>"
      ]
     },
     "metadata": {},
     "output_type": "display_data"
    }
   ],
   "source": [
    "import matplotlib.pyplot as plt\n",
    "data[\"user_average\"].hist()\n",
    "plt.xlim(0, 5) # used copilot for matplotlib help\n",
    "plt.show()\n"
   ]
  },
  {
   "cell_type": "markdown",
   "metadata": {},
   "source": [
    "We aimed to correct for this by getting the difference between the sample mean (of the user) and the expected mean (2.5 stars)."
   ]
  },
  {
   "cell_type": "code",
   "execution_count": 468,
   "metadata": {},
   "outputs": [],
   "source": [
    "data[\"skew\"] = data[\"user_average\"] - 2.5"
   ]
  },
  {
   "cell_type": "code",
   "execution_count": 469,
   "metadata": {},
   "outputs": [],
   "source": [
    "unskew = data\n",
    "x = unskew[\"skew\"]\n",
    "unskew = unskew.drop(\"skew\", axis=1)\n",
    "unskew[\"skew\"] = x # get rid of initial mean function\n"
   ]
  },
  {
   "cell_type": "code",
   "execution_count": 470,
   "metadata": {},
   "outputs": [],
   "source": [
    "unskew = unskew.apply(lambda row: row[row.apply # subtracts skew from non-zero values\n",
    "                             (lambda y: isinstance(y, (int, float)))\n",
    "                             & (row != 0)] # used AI to ignore zero-values\n",
    "                             - x, \n",
    "                             axis=0)\n",
    "unskew = unskew.fillna(0)"
   ]
  },
  {
   "cell_type": "code",
   "execution_count": 471,
   "metadata": {},
   "outputs": [],
   "source": [
    "unskew = unskew.drop(labels=[\"user_average\"], axis=1)\n",
    "unskew[\"user_average\"] = unskew.apply(lambda row: row[row.apply(\n",
    "    lambda x: isinstance(x, (int, float))) \n",
    "    & (row != 0)].mean(), # creates new user average\n",
    "    axis=1)"
   ]
  },
  {
   "cell_type": "code",
   "execution_count": 472,
   "metadata": {},
   "outputs": [
    {
     "name": "stdout",
     "output_type": "stream",
     "text": [
      "{'church_avg': 1.5096768675156813, 'resort_avg': 2.358613492359299, 'beach_avg': 2.4911573734409393, 'park_avg': 2.7968859970674487, 'theater_avg': 2.958940615835777, 'museum_avg': 2.8934897360703813, 'mall_avg': 3.3513947947214073, 'zoo_avg': 2.5407954545454543, 'restaurants_avg': 3.1260190615835772, 'bars_avg': 2.8327291055718473, 'local_services_avg': 2.550364869820315, 'burger_pizza_avg': 2.078339138405133, 'hotel_avg': 2.1255113636363636, 'juice_avg': 2.1908614369501467, 'art_avg': 2.208191489361702, 'dance_avg': 1.2177994011976048, 'pool_avg': 1.0405565601768134, 'gym_avg': 1.0108335210633026, 'bakery_avg': 1.1998390022675738, 'beauty_avg': 1.196576754385965, 'spa_avg': 1.0860696619950536, 'cafe_avg': 1.8687008413226376, 'viewpoint_avg': 1.6211893674815678, 'monument_avg': 1.627900573613767, 'garden_avg': 1.81, 'user_average': 2.120645714017358, 'skew': -0.3793542859826422}\n",
      "{'church_avg': 1.8980891714816805, 'resort_avg': 2.7436446901673333, 'beach_avg': 2.8707486592449833, 'park_avg': 3.176240283050091, 'theater_avg': 3.338294901818419, 'museum_avg': 3.2728440220530235, 'mall_avg': 3.7307490807040495, 'zoo_avg': 2.920149740528097, 'restaurants_avg': 3.50537334756622, 'bars_avg': 3.2120833915544895, 'local_services_avg': 2.929779026477494, 'burger_pizza_avg': 2.4577570688191113, 'hotel_avg': 2.504865649619006, 'juice_avg': 2.570215722932789, 'art_avg': 2.58804176354505, 'dance_avg': 1.6028298472240001, 'pool_avg': 1.4380504131286407, 'gym_avg': 1.4180236984387171, 'bakery_avg': 1.6118971043563746, 'beauty_avg': 1.6080410589729004, 'spa_avg': 1.48987505624804, 'cafe_avg': 2.2625072454261197, 'viewpoint_avg': 2.012601415819713, 'monument_avg': 2.0166882756048357, 'garden_avg': 1.6508237986270025, 'skew': 0.0, 'user_average': 2.5}\n"
     ]
    }
   ],
   "source": [
    "# copy and pasted existing copilot code, and used .to_dict() method\n",
    "raw = data.apply(lambda col: col[col.apply(lambda x: isinstance(x, (int, float))) & (col != 0)].mean(), axis= 0).to_dict()\n",
    "normalized = unskew.apply(lambda col: col[col.apply(lambda x: isinstance(x, (int, float))) & (col != 0)].mean(), axis= 0).to_dict()\n",
    "# fix normalized skew\n",
    "normalized[\"skew\"] = 0.0\n",
    "\n",
    "print(raw)\n",
    "print(normalized)"
   ]
  },
  {
   "cell_type": "code",
   "execution_count": 473,
   "metadata": {},
   "outputs": [],
   "source": [
    "means = pd.DataFrame([raw, normalized]).transpose()\n",
    "means.columns = [\"raw\", \"normalized\"]\n",
    "means = means.drop([\"skew\", \"user_average\"], axis=0)\n",
    "means[\"difference\"] = means[\"normalized\"] - means[\"raw\"]\n",
    "#means[:\"church_avg\"]\n"
   ]
  },
  {
   "cell_type": "code",
   "execution_count": 474,
   "metadata": {},
   "outputs": [
    {
     "name": "stdout",
     "output_type": "stream",
     "text": [
      "1.04\n",
      "2.58\n"
     ]
    }
   ],
   "source": [
    "for n in data[\"garden_avg\"]:\n",
    "    if n > 0.0:\n",
    "        print(n)\n",
    "\n",
    "# removing \"garden_avg\" because of low n count\n",
    "        \n",
    "means = means.drop(\"garden_avg\", axis=0)"
   ]
  },
  {
   "cell_type": "code",
   "execution_count": 475,
   "metadata": {},
   "outputs": [
    {
     "data": {
      "text/plain": [
       "0.3873730897663091"
      ]
     },
     "execution_count": 475,
     "metadata": {},
     "output_type": "execute_result"
    }
   ],
   "source": [
    "means[\"difference\"].mean()"
   ]
  },
  {
   "cell_type": "code",
   "execution_count": 476,
   "metadata": {},
   "outputs": [
    {
     "data": {
      "text/plain": [
       "<Axes: >"
      ]
     },
     "execution_count": 476,
     "metadata": {},
     "output_type": "execute_result"
    },
    {
     "data": {
      "image/png": "[encoded data removed]",
      "text/plain": [
       "<Figure size 640x480 with 1 Axes>"
      ]
     },
     "metadata": {},
     "output_type": "display_data"
    }
   ],
   "source": [
    "means[\"raw\"].hist(range=(0,5))"
   ]
  },
  {
   "cell_type": "code",
   "execution_count": 477,
   "metadata": {},
   "outputs": [
    {
     "data": {
      "image/png": "[encoded data removed]",
      "text/plain": [
       "<Figure size 640x480 with 1 Axes>"
      ]
     },
     "metadata": {},
     "output_type": "display_data"
    }
   ],
   "source": [
    "means[\"normalized\"].hist(range=(0,5))\n",
    "#plt.xlim(0, 5)\n",
    "plt.xlabel('Bins')\n",
    "plt.show()\n"
   ]
  },
  {
   "cell_type": "markdown",
   "metadata": {},
   "source": [
    "$$k = $$"
   ]
  },
  {
   "cell_type": "code",
   "execution_count": 480,
   "metadata": {},
   "outputs": [
    {
     "data": {
      "text/plain": [
       "0.03270381610615902"
      ]
     },
     "execution_count": 480,
     "metadata": {},
     "output_type": "execute_result"
    }
   ],
   "source": [
    "means[\"difference\"].max() - means[\"difference\"].min()"
   ]
  },
  {
   "cell_type": "code",
   "execution_count": 479,
   "metadata": {},
   "outputs": [
    {
     "name": "stdout",
     "output_type": "stream",
     "text": [
      "2.8869505643842626\n",
      "2.8873730897663092\n",
      "1.6197969436260946\n"
     ]
    }
   ],
   "source": [
    "def adjust(x: float) -> float:\n",
    "    k = float(means[\"difference\"].mean())\n",
    "    adjusted = (-k/2.5)*(x-5)+x\n",
    "    return adjusted\n",
    "\n",
    "k = float(means[\"difference\"].mean())\n",
    "\n",
    "tests = []\n",
    "for x in range(0, 5000):\n",
    "    tests.append(adjust(x/1000))\n",
    "\n",
    "#print(adjust(5))\n",
    "print(np.mean(tests))\n",
    "print(adjust(2.5))\n",
    "print(adjust(1))\n"
   ]
  }
 ],
 "metadata": {
  "kernelspec": {
   "display_name": "Python 3",
   "language": "python",
   "name": "python3"
  },
  "language_info": {
   "codemirror_mode": {
    "name": "ipython",
    "version": 3
   },
   "file_extension": ".py",
   "mimetype": "text/x-python",
   "name": "python",
   "nbconvert_exporter": "python",
   "pygments_lexer": "ipython3",
   "version": "3.12.1"
  }
 },
 "nbformat": 4,
 "nbformat_minor": 2
}
